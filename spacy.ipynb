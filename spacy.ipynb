{
 "cells": [
  {
   "cell_type": "code",
   "execution_count": 10,
   "metadata": {},
   "outputs": [],
   "source": [
    "#summarizing with spacy\n",
    "import spacy\n",
    "from spacy.lang.en.stop_words import STOP_WORDS\n",
    "from string import punctuation"
   ]
  },
  {
   "cell_type": "code",
   "execution_count": 11,
   "metadata": {},
   "outputs": [
    {
     "name": "stdout",
     "output_type": "stream",
     "text": [
      "2906\n"
     ]
    }
   ],
   "source": [
    "text = 'The Orbiter Discovery, OV-103, is considered eligible for listing in the National Register of Historic Places (NRHP) in the context of the U.S. Space Shuttle Program (1969-2011) under Criterion A in the areas of Space Exploration and Transportation and under Criterion C in the area of Engineering. Because it has achieved significance within the past fifty years, Criteria Consideration G applies. Under Criterion A, Discovery is significant as the oldest of the three extant orbiter vehicles constructed for the Space Shuttle Program (SSP), the longest running American space program to date; she was the third of five orbiters built by NASA. Unlike the Mercury, Gemini, and Apollo programs, the SSP’s emphasis was on cost effectiveness and reusability, and eventually the construction of a space station. Including her maiden voyage (launched August 30, 1984), Discovery flew to space thirty-nine times, more than any of the other four orbiters; she was also the first orbiter to fly twenty missions. She had the honor of being chosen as the Return to Flight vehicle after both the Challenger and Columbia accidents. Discovery was the first shuttle to fly with the redesigned SRBs, a result of the Challenger accident, and the first shuttle to fly with the Phase II and Block I SSME. Discovery also carried the Hubble Space Telescope to orbit and performed two of the five servicing missions to the observatory. She flew the first and last dedicated Department of Defense (DoD) missions, as well as the first unclassified defense-related mission. In addition, Discovery was vital to the construction of the International Space Station (ISS); she flew thirteen of the thirty-seven total missions flown to the station by a U.S. Space Shuttle. She was the first orbiter to dock to the ISS, and the first to perform an exchange of a resident crew. Under Criterion C, Discovery is significant as a feat of engineering. According to Wayne Hale, a flight director from Johnson Space Center, the Space Shuttle orbiter represents a “huge technological leap from expendable rockets and capsules to a reusable, winged, hypersonic, cargo-carrying spacecraft.” Although her base structure followed a conventional aircraft design, she used advanced materials that both minimized her weight for cargo-carrying purposes and featured low thermal expansion ratios, which provided a stable base for her Thermal Protection System (TPS) materials. The Space Shuttle orbiter also featured the first reusable TPS; all previous spaceflight vehicles had a single-use, ablative heat shield. Other notable engineering achievements of the orbiter included the first reusable orbital propulsion system, and the first two-fault-tolerant Integrated Avionics System. As Hale stated, the Space Shuttle remains “the largest, fastest, winged hypersonic aircraft in history,” having regularly flown at twenty-five times the speed of sound.'\n",
    "text = text.lower()\n",
    "print(len(text))"
   ]
  },
  {
   "cell_type": "code",
   "execution_count": 12,
   "metadata": {},
   "outputs": [],
   "source": [
    "nlp = spacy.load('en_core_web_sm')\n",
    "doc = nlp(text)\n",
    "tokens = [token.text for token in doc]\n",
    "sentences = [token.text for token in doc.sents]\n",
    "stop_words = list(STOP_WORDS)\n",
    "punctuation = punctuation + '\\n'"
   ]
  },
  {
   "cell_type": "code",
   "execution_count": 13,
   "metadata": {},
   "outputs": [
    {
     "name": "stdout",
     "output_type": "stream",
     "text": [
      "{'orbiter': 7, 'discovery': 7, 'ov-103': 1, 'considered': 1, 'eligible': 1, 'listing': 1, 'national': 1, 'register': 1, 'historic': 1, 'places': 1, 'nrhp': 1, 'context': 1, 'u.s': 2, 'space': 13, 'shuttle': 8, 'program': 3, '1969': 1, '2011': 1, 'criterion': 4, 'areas': 1, 'exploration': 1, 'transportation': 1, 'c': 2, 'area': 1, 'engineering': 3, 'achieved': 1, 'significance': 1, 'past': 1, 'years': 1, 'criteria': 1, 'consideration': 1, 'g': 1, 'applies': 1, 'significant': 2, 'oldest': 1, 'extant': 1, 'vehicles': 2, 'constructed': 1, 'ssp': 2, 'longest': 1, 'running': 1, 'american': 1, 'date': 1, 'orbiters': 2, 'built': 1, 'nasa': 1, 'unlike': 1, 'mercury': 1, 'gemini': 1, 'apollo': 1, 'programs': 1, 'emphasis': 1, 'cost': 1, 'effectiveness': 1, 'reusability': 1, 'eventually': 1, 'construction': 2, 'station': 3, 'including': 1, 'maiden': 1, 'voyage': 1, 'launched': 1, 'august': 1, '30': 1, '1984': 1, 'flew': 3, 'thirty': 2, 'times': 2, 'fly': 3, 'missions': 4, 'honor': 1, 'chosen': 1, 'return': 1, 'flight': 2, 'vehicle': 1, 'challenger': 2, 'columbia': 1, 'accidents': 1, 'redesigned': 1, 'srbs': 1, 'result': 1, 'accident': 1, 'phase': 1, 'ii': 1, 'block': 1, 'ssme': 1, 'carried': 1, 'hubble': 1, 'telescope': 1, 'orbit': 1, 'performed': 1, 'servicing': 1, 'observatory': 1, 'dedicated': 1, 'department': 1, 'defense': 2, 'dod': 1, 'unclassified': 1, 'related': 1, 'mission': 1, 'addition': 1, 'vital': 1, 'international': 1, 'iss': 2, 'thirteen': 1, 'seven': 1, 'total': 1, 'flown': 2, 'dock': 1, 'perform': 1, 'exchange': 1, 'resident': 1, 'crew': 1, 'feat': 1, 'according': 1, 'wayne': 1, 'hale': 2, 'director': 1, 'johnson': 1, 'center': 1, 'represents': 1, '“': 2, 'huge': 1, 'technological': 1, 'leap': 1, 'expendable': 1, 'rockets': 1, 'capsules': 1, 'reusable': 3, 'winged': 2, 'hypersonic': 2, 'cargo': 2, 'carrying': 2, 'spacecraft': 1, '”': 2, 'base': 2, 'structure': 1, 'followed': 1, 'conventional': 1, 'aircraft': 2, 'design': 1, 'advanced': 1, 'materials': 2, 'minimized': 1, 'weight': 1, 'purposes': 1, 'featured': 2, 'low': 1, 'thermal': 2, 'expansion': 1, 'ratios': 1, 'provided': 1, 'stable': 1, 'protection': 1, 'system': 3, 'tps': 2, 'previous': 1, 'spaceflight': 1, 'single': 1, 'use': 1, 'ablative': 1, 'heat': 1, 'shield': 1, 'notable': 1, 'achievements': 1, 'included': 1, 'orbital': 1, 'propulsion': 1, 'fault': 1, 'tolerant': 1, 'integrated': 1, 'avionics': 1, 'stated': 1, 'remains': 1, 'largest': 1, 'fastest': 1, 'history': 1, 'having': 1, 'regularly': 1, 'speed': 1, 'sound': 1}\n"
     ]
    }
   ],
   "source": [
    "frequencies = {}\n",
    "tokens = [i for i in tokens if not (i in stop_words or i in punctuation)]\n",
    "for w in tokens:\n",
    "    if w not in frequencies.keys():\n",
    "        frequencies[w] = 1\n",
    "    else:\n",
    "        frequencies[w] += 1\n",
    "print(frequencies)"
   ]
  },
  {
   "cell_type": "code",
   "execution_count": 14,
   "metadata": {},
   "outputs": [
    {
     "name": "stdout",
     "output_type": "stream",
     "text": [
      "{'orbiter': 0.5384615384615384, 'discovery': 0.5384615384615384, 'ov-103': 0.07692307692307693, 'considered': 0.07692307692307693, 'eligible': 0.07692307692307693, 'listing': 0.07692307692307693, 'national': 0.07692307692307693, 'register': 0.07692307692307693, 'historic': 0.07692307692307693, 'places': 0.07692307692307693, 'nrhp': 0.07692307692307693, 'context': 0.07692307692307693, 'u.s': 0.15384615384615385, 'space': 1.0, 'shuttle': 0.6153846153846154, 'program': 0.23076923076923078, '1969': 0.07692307692307693, '2011': 0.07692307692307693, 'criterion': 0.3076923076923077, 'areas': 0.07692307692307693, 'exploration': 0.07692307692307693, 'transportation': 0.07692307692307693, 'c': 0.15384615384615385, 'area': 0.07692307692307693, 'engineering': 0.23076923076923078, 'achieved': 0.07692307692307693, 'significance': 0.07692307692307693, 'past': 0.07692307692307693, 'years': 0.07692307692307693, 'criteria': 0.07692307692307693, 'consideration': 0.07692307692307693, 'g': 0.07692307692307693, 'applies': 0.07692307692307693, 'significant': 0.15384615384615385, 'oldest': 0.07692307692307693, 'extant': 0.07692307692307693, 'vehicles': 0.15384615384615385, 'constructed': 0.07692307692307693, 'ssp': 0.15384615384615385, 'longest': 0.07692307692307693, 'running': 0.07692307692307693, 'american': 0.07692307692307693, 'date': 0.07692307692307693, 'orbiters': 0.15384615384615385, 'built': 0.07692307692307693, 'nasa': 0.07692307692307693, 'unlike': 0.07692307692307693, 'mercury': 0.07692307692307693, 'gemini': 0.07692307692307693, 'apollo': 0.07692307692307693, 'programs': 0.07692307692307693, 'emphasis': 0.07692307692307693, 'cost': 0.07692307692307693, 'effectiveness': 0.07692307692307693, 'reusability': 0.07692307692307693, 'eventually': 0.07692307692307693, 'construction': 0.15384615384615385, 'station': 0.23076923076923078, 'including': 0.07692307692307693, 'maiden': 0.07692307692307693, 'voyage': 0.07692307692307693, 'launched': 0.07692307692307693, 'august': 0.07692307692307693, '30': 0.07692307692307693, '1984': 0.07692307692307693, 'flew': 0.23076923076923078, 'thirty': 0.15384615384615385, 'times': 0.15384615384615385, 'fly': 0.23076923076923078, 'missions': 0.3076923076923077, 'honor': 0.07692307692307693, 'chosen': 0.07692307692307693, 'return': 0.07692307692307693, 'flight': 0.15384615384615385, 'vehicle': 0.07692307692307693, 'challenger': 0.15384615384615385, 'columbia': 0.07692307692307693, 'accidents': 0.07692307692307693, 'redesigned': 0.07692307692307693, 'srbs': 0.07692307692307693, 'result': 0.07692307692307693, 'accident': 0.07692307692307693, 'phase': 0.07692307692307693, 'ii': 0.07692307692307693, 'block': 0.07692307692307693, 'ssme': 0.07692307692307693, 'carried': 0.07692307692307693, 'hubble': 0.07692307692307693, 'telescope': 0.07692307692307693, 'orbit': 0.07692307692307693, 'performed': 0.07692307692307693, 'servicing': 0.07692307692307693, 'observatory': 0.07692307692307693, 'dedicated': 0.07692307692307693, 'department': 0.07692307692307693, 'defense': 0.15384615384615385, 'dod': 0.07692307692307693, 'unclassified': 0.07692307692307693, 'related': 0.07692307692307693, 'mission': 0.07692307692307693, 'addition': 0.07692307692307693, 'vital': 0.07692307692307693, 'international': 0.07692307692307693, 'iss': 0.15384615384615385, 'thirteen': 0.07692307692307693, 'seven': 0.07692307692307693, 'total': 0.07692307692307693, 'flown': 0.15384615384615385, 'dock': 0.07692307692307693, 'perform': 0.07692307692307693, 'exchange': 0.07692307692307693, 'resident': 0.07692307692307693, 'crew': 0.07692307692307693, 'feat': 0.07692307692307693, 'according': 0.07692307692307693, 'wayne': 0.07692307692307693, 'hale': 0.15384615384615385, 'director': 0.07692307692307693, 'johnson': 0.07692307692307693, 'center': 0.07692307692307693, 'represents': 0.07692307692307693, '“': 0.15384615384615385, 'huge': 0.07692307692307693, 'technological': 0.07692307692307693, 'leap': 0.07692307692307693, 'expendable': 0.07692307692307693, 'rockets': 0.07692307692307693, 'capsules': 0.07692307692307693, 'reusable': 0.23076923076923078, 'winged': 0.15384615384615385, 'hypersonic': 0.15384615384615385, 'cargo': 0.15384615384615385, 'carrying': 0.15384615384615385, 'spacecraft': 0.07692307692307693, '”': 0.15384615384615385, 'base': 0.15384615384615385, 'structure': 0.07692307692307693, 'followed': 0.07692307692307693, 'conventional': 0.07692307692307693, 'aircraft': 0.15384615384615385, 'design': 0.07692307692307693, 'advanced': 0.07692307692307693, 'materials': 0.15384615384615385, 'minimized': 0.07692307692307693, 'weight': 0.07692307692307693, 'purposes': 0.07692307692307693, 'featured': 0.15384615384615385, 'low': 0.07692307692307693, 'thermal': 0.15384615384615385, 'expansion': 0.07692307692307693, 'ratios': 0.07692307692307693, 'provided': 0.07692307692307693, 'stable': 0.07692307692307693, 'protection': 0.07692307692307693, 'system': 0.23076923076923078, 'tps': 0.15384615384615385, 'previous': 0.07692307692307693, 'spaceflight': 0.07692307692307693, 'single': 0.07692307692307693, 'use': 0.07692307692307693, 'ablative': 0.07692307692307693, 'heat': 0.07692307692307693, 'shield': 0.07692307692307693, 'notable': 0.07692307692307693, 'achievements': 0.07692307692307693, 'included': 0.07692307692307693, 'orbital': 0.07692307692307693, 'propulsion': 0.07692307692307693, 'fault': 0.07692307692307693, 'tolerant': 0.07692307692307693, 'integrated': 0.07692307692307693, 'avionics': 0.07692307692307693, 'stated': 0.07692307692307693, 'remains': 0.07692307692307693, 'largest': 0.07692307692307693, 'fastest': 0.07692307692307693, 'history': 0.07692307692307693, 'having': 0.07692307692307693, 'regularly': 0.07692307692307693, 'speed': 0.07692307692307693, 'sound': 0.07692307692307693}\n"
     ]
    }
   ],
   "source": [
    "max_frequency = max(frequencies.values())\n",
    "scores = {}\n",
    "for w in frequencies.keys():\n",
    "    scores[w] = frequencies[w] / max_frequency\n",
    "print(scores)"
   ]
  },
  {
   "cell_type": "code",
   "execution_count": 15,
   "metadata": {},
   "outputs": [
    {
     "name": "stdout",
     "output_type": "stream",
     "text": [
      "{'the orbiter discovery, ov-103, is considered eligible for listing in the national register of historic places (nrhp) in the context of the u.s. space shuttle program (1969-2011) under criterion a in the areas of space exploration and transportation and under criterion c in the area of engineering.': 6.307692307692307, 'because it has achieved significance within the past fifty years, criteria consideration g applies.': 0.6153846153846154, 'under criterion a, discovery is significant as the oldest of the three extant orbiter vehicles constructed for the space shuttle program (ssp), the longest running american space program to date; she was the third of five orbiters built by nasa.': 5.769230769230768, 'unlike the mercury, gemini, and apollo programs, the ssp’s emphasis was on cost effectiveness and reusability, and eventually the construction of a space station.': 2.3076923076923075, 'including her maiden voyage (launched august 30, 1984), discovery flew to space thirty-nine times, more than any of the other four orbiters; she was also the first orbiter to fly twenty missions.': 3.846153846153846, 'she had the honor of being chosen as the return to flight vehicle after both the challenger and columbia accidents.': 0.7692307692307692, 'discovery was the first shuttle to fly with the redesigned srbs, a result of the challenger accident, and the first shuttle to fly with the phase ii and block i ssme.': 3.000000000000001, 'discovery also carried the hubble space telescope to orbit and performed two of the five servicing missions to the observatory.': 2.3846153846153846, 'she flew the first and last dedicated department of defense (dod) missions, as well as the first unclassified defense-related mission.': 1.3076923076923075, 'in addition, discovery was vital to the construction of the international space station (iss); she flew thirteen of the thirty-seven total missions flown to the station by a u.s. space shuttle.': 5.384615384615385, 'she was the first orbiter to dock to the iss, and the first to perform an exchange of a resident crew.': 1.0769230769230769, 'under criterion c, discovery is significant as a feat of engineering.': 1.4615384615384615, 'according to wayne hale, a flight director from johnson space center, the space shuttle orbiter represents a “huge technological leap from expendable rockets and capsules to a reusable, winged, hypersonic, cargo-carrying spacecraft.”': 5.615384615384616, 'although her base structure followed a conventional aircraft design, she used advanced materials that both minimized her weight for cargo-carrying purposes and featured low thermal expansion ratios, which provided a stable base for her thermal protection system (tps) materials.': 2.9999999999999996, 'the space shuttle orbiter also featured the first reusable tps; all previous spaceflight vehicles had a single-use, ablative heat shield.': 3.3846153846153855, 'other notable engineering achievements of the orbiter included the first reusable orbital propulsion system, and the first two-fault-tolerant integrated avionics system.': 2.1538461538461537, 'as hale stated, the space shuttle remains “the largest, fastest, winged hypersonic aircraft in history,” having regularly flown at twenty-five times the speed of sound.': 3.538461538461539}\n"
     ]
    }
   ],
   "source": [
    "sentence_scores = {}\n",
    "for s in sentences:\n",
    "    sent = nlp(s)\n",
    "    words = [word.text for word in sent]\n",
    "    words = [i for i in words if not (i in stop_words or i in punctuation)]\n",
    "    summ = 0\n",
    "    for w in words:\n",
    "        summ += scores[w]\n",
    "    sentence_scores[s] = summ\n",
    "print(sentence_scores)"
   ]
  },
  {
   "cell_type": "code",
   "execution_count": 16,
   "metadata": {},
   "outputs": [
    {
     "name": "stdout",
     "output_type": "stream",
     "text": [
      "the orbiter discovery, ov-103, is considered eligible for listing in the national register of historic places (nrhp) in the context of the u.s. space shuttle program (1969-2011) under criterion a in the areas of space exploration and transportation and under criterion c in the area of engineering.\n",
      "under criterion a, discovery is significant as the oldest of the three extant orbiter vehicles constructed for the space shuttle program (ssp), the longest running american space program to date; she was the third of five orbiters built by nasa.\n",
      "according to wayne hale, a flight director from johnson space center, the space shuttle orbiter represents a “huge technological leap from expendable rockets and capsules to a reusable, winged, hypersonic, cargo-carrying spacecraft.”\n"
     ]
    }
   ],
   "source": [
    "from heapq import nlargest\n",
    "length = 3\n",
    "summary = nlargest(length, sentence_scores, sentence_scores.get)\n",
    "for s in summary:\n",
    "    print(s)"
   ]
  }
 ],
 "metadata": {
  "kernelspec": {
   "display_name": "Python 3",
   "language": "python",
   "name": "python3"
  },
  "language_info": {
   "codemirror_mode": {
    "name": "ipython",
    "version": 3
   },
   "file_extension": ".py",
   "mimetype": "text/x-python",
   "name": "python",
   "nbconvert_exporter": "python",
   "pygments_lexer": "ipython3",
   "version": "3.11.1"
  }
 },
 "nbformat": 4,
 "nbformat_minor": 2
}
